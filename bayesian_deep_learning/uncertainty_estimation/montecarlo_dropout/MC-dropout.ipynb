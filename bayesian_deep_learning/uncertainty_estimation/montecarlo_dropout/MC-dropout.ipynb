{
 "cells": [
  {
   "cell_type": "markdown",
   "metadata": {},
   "source": [
    "# Monte Carlo Dropout"
   ]
  },
  {
   "cell_type": "markdown",
   "metadata": {},
   "source": [
    "## References\n",
    "\n",
    "\n",
    "\n",
    "* [Stack Exchange - What is Monte Carlo dropout?](https://datascience.stackexchange.com/questions/44065/what-is-monte-carlo-dropout)\n",
    "* [Uncertainty in Profit Scoring (Bayesian Deep Learning)](https://humboldt-wi.github.io/blog/research/information_systems_1819/uncertainty-and-credit-scoring/)"
   ]
  }
 ],
 "metadata": {
  "kernelspec": {
   "display_name": "Python 3",
   "language": "python",
   "name": "python3"
  },
  "language_info": {
   "codemirror_mode": {
    "name": "ipython",
    "version": 3
   },
   "file_extension": ".py",
   "mimetype": "text/x-python",
   "name": "python",
   "nbconvert_exporter": "python",
   "pygments_lexer": "ipython3",
   "version": "3.5.2"
  }
 },
 "nbformat": 4,
 "nbformat_minor": 4
}
