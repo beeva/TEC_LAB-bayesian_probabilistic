{
 "cells": [
  {
   "cell_type": "markdown",
   "metadata": {},
   "source": [
    "Original at: https://github.com/sthorn/deep-learning-explorations/blob/master/predicting-uncertainty.ipynb\n",
    "\n",
    "# Predicting uncertainty with (deep) neural networks\n",
    "\n",
    "The idea is that a network that outputs a real-valued prediction can be (simply) modified to provide an estimate of the error on this prediction. Roughly speaking we do:\n",
    "\n",
    "* Add an additional real-valued output to the network. The network now predicts two values: the output, $y$, and its error, $\\sigma$\n",
    "\n",
    "* Estimate the target value for the error, $\\sigma$, from the difference between the target value of the output, $y$, and its predicted value, $\\hat{y}$. We can use either: $\\sigma^2 = (y-\\hat{y})^2$ or $\\sigma = \\left| y-\\hat{y}\\right|$\n",
    "\n",
    "* An easy way to do this at training time is with a customised loss function\n",
    "\n",
    "# This experiment use training data at (0,1) and (800,801) interval. \n",
    "\n",
    "hipothesis: variance should increase between 1 and 800 and between 800 and 1200. It should be maximum at 400 and 1200, max distance between known data."
   ]
  },
  {
   "cell_type": "markdown",
   "metadata": {},
   "source": [
    "### Imports "
   ]
  },
  {
   "cell_type": "code",
   "execution_count": 1,
   "metadata": {},
   "outputs": [],
   "source": [
    "import numpy as np\n",
    "import matplotlib.pyplot as plt\n",
    "import sklearn.metrics as m\n",
    "import torch\n",
    "from torch.autograd import Variable\n",
    "import torch.nn.functional as F\n",
    "import copy\n",
    "\n",
    "%matplotlib inline"
   ]
  },
  {
   "cell_type": "markdown",
   "metadata": {},
   "source": [
    "### Generate some random data"
   ]
  },
  {
   "cell_type": "code",
   "execution_count": 2,
   "metadata": {},
   "outputs": [],
   "source": [
    "# Generate some linearly related data\n",
    "n_samples = 10000\n",
    "noise_percentaje=0.00 #no noise in this experiment\n",
    "n_noise_samples=int(n_samples*noise_percentaje) #5% of samples\n",
    "np.random.seed(4567)"
   ]
  },
  {
   "cell_type": "code",
   "execution_count": 3,
   "metadata": {},
   "outputs": [],
   "source": [
    "#generate noise\n",
    "if n_noise_samples is not 0:\n",
    "    k_noise = 0\n",
    "    theta_noise = 5\n",
    "    #offset to locate noise \n",
    "    offset=1000\n",
    "    noise_period=0.3\n",
    "    extended_x=np.arange(offset, offset+noise_period, noise_period/n_noise_samples)\n",
    "    #padding_zeros=np.zeros(int((n_samples-n_noise_samples)/2),dtype=float)\n",
    "    partial_non_gaussian_noise = np.random.uniform(k_noise, theta_noise, n_noise_samples)\n",
    "    plt.figure(figsize=(14,6))\n",
    "    plt.plot(extended_x,partial_non_gaussian_noise, '.')"
   ]
  },
  {
   "cell_type": "code",
   "execution_count": 4,
   "metadata": {},
   "outputs": [
    {
     "name": "stdout",
     "output_type": "stream",
     "text": [
      "(10000,)\n"
     ]
    }
   ],
   "source": [
    "x = np.random.random(n_samples) \n",
    "#force add samples at (800,801) interval, putting them in x[800] to x[900]\n",
    "for position in range(800,900,1):\n",
    "    x[position]=800+(0.01*(position-800))\n",
    "                     \n",
    "eps = np.random.normal(scale=1.0, size=n_samples) * 0.4*np.sin(x*4*np.pi)\n",
    "y = 2*x + 1 + eps\n",
    "print(y.shape)"
   ]
  },
  {
   "cell_type": "code",
   "execution_count": 5,
   "metadata": {},
   "outputs": [
    {
     "data": {
      "image/png": "[encoded data removed]",
      "text/plain": [
       "<Figure size 1008x432 with 1 Axes>"
      ]
     },
     "metadata": {
      "needs_background": "light"
     },
     "output_type": "display_data"
    }
   ],
   "source": [
    "# Plot the data at 800\n",
    "plt.figure(figsize=(14,6))\n",
    "plt.plot(x[800:900], y[800:900], '.')\n",
    "plt.xlabel(r'$x$');\n",
    "plt.ylabel(r'$y$');"
   ]
  },
  {
   "cell_type": "code",
   "execution_count": 6,
   "metadata": {},
   "outputs": [
    {
     "data": {
      "image/png": "[encoded data removed]",
      "text/plain": [
       "<Figure size 1008x432 with 1 Axes>"
      ]
     },
     "metadata": {
      "needs_background": "light"
     },
     "output_type": "display_data"
    }
   ],
   "source": [
    "#NO NOISE AT THIS EXPERIMENT\n",
    "#add noise\n",
    "#y = y + far_away_non_gaussian_noise\n",
    "if n_noise_samples is not 0:\n",
    "  x=np.concatenate((x,extended_x))\n",
    "  y=np.concatenate((y, partial_non_gaussian_noise))\n",
    "# Plot the data\n",
    "plt.figure(figsize=(14,6))\n",
    "plt.plot(x, y, '.')\n",
    "plt.xlabel(r'$x$');\n",
    "plt.ylabel(r'$y$');"
   ]
  },
  {
   "cell_type": "code",
   "execution_count": 7,
   "metadata": {},
   "outputs": [],
   "source": [
    "# Add in column of dummy zeros to represent sigma \n",
    "sigma = np.zeros(n_samples+n_noise_samples)\n",
    "y = np.stack([y, sigma], axis=1)"
   ]
  },
  {
   "cell_type": "code",
   "execution_count": 8,
   "metadata": {},
   "outputs": [],
   "source": [
    "# Reshape x for PyTorch\n",
    "x = x.reshape(n_samples+n_noise_samples, 1)"
   ]
  },
  {
   "cell_type": "code",
   "execution_count": 9,
   "metadata": {},
   "outputs": [],
   "source": [
    "# Split into training and validation sets\n",
    "n_validation = 500\n",
    "x_val, x = x[:n_validation], x[n_validation:]\n",
    "y_val, y = y[:n_validation], y[n_validation:]"
   ]
  },
  {
   "cell_type": "code",
   "execution_count": 10,
   "metadata": {},
   "outputs": [],
   "source": [
    "# Convert x and y to PyTorch Variables on the GPU\n",
    "dtype = torch.FloatTensor\n",
    "x = Variable(torch.from_numpy(x).type(dtype))\n",
    "y = Variable(torch.from_numpy(y).type(dtype), requires_grad=False)"
   ]
  },
  {
   "cell_type": "code",
   "execution_count": 11,
   "metadata": {},
   "outputs": [
    {
     "data": {
      "text/plain": [
       "(torch.Size([9500, 1]), torch.Size([9500, 2]))"
      ]
     },
     "execution_count": 11,
     "metadata": {},
     "output_type": "execute_result"
    }
   ],
   "source": [
    "# Check shape ok for PyTorch - x should be (n x 1), y (n x 2)\n",
    "x.shape, y.shape"
   ]
  },
  {
   "cell_type": "markdown",
   "metadata": {},
   "source": [
    "### Create a simple network "
   ]
  },
  {
   "cell_type": "code",
   "execution_count": 12,
   "metadata": {},
   "outputs": [],
   "source": [
    "# Create a simple two-layer network with one input (x) and two outputs (y, sigma)\n",
    "n_inputs = 1\n",
    "n_outputs = 2\n",
    "n_hidden = 1000\n",
    "model = torch.nn.Sequential(torch.nn.Linear(n_inputs, n_hidden),\n",
    "                            torch.nn.ReLU(),\n",
    "                            torch.nn.Linear(n_hidden, n_outputs)\n",
    "                           )"
   ]
  },
  {
   "cell_type": "code",
   "execution_count": 13,
   "metadata": {},
   "outputs": [],
   "source": [
    "# Adam optimizer\n",
    "learning_rate = 1e-4\n",
    "optimizer = torch.optim.Adam(model.parameters(), lr=learning_rate)"
   ]
  },
  {
   "cell_type": "markdown",
   "metadata": {},
   "source": [
    "### Custom loss function\n",
    "This is where the magic happens."
   ]
  },
  {
   "cell_type": "code",
   "execution_count": 14,
   "metadata": {},
   "outputs": [],
   "source": [
    "def custom_loss(input, target):\n",
    "    \n",
    "    # Estimate target value for sigma with abs(y_pred - y)\n",
    "    #\n",
    "    #    actual y     is target[:,0]\n",
    "    # predicted y     is input[:,0]\n",
    "    #    actual sigma is target[:,1]\n",
    "    # predicted sigma is input[:,1]\n",
    "    \n",
    "    # Use 'requires_grad == False' to prevent PyTorch from trying to differentiate 'target'\n",
    "    target[:,1] = Variable((input[:,0].data - target[:,0].data).abs(), \n",
    "                           requires_grad=False)  \n",
    "    # Return MSE loss \n",
    "    return F.mse_loss(input, target)"
   ]
  },
  {
   "cell_type": "markdown",
   "metadata": {},
   "source": [
    "### Training loop \n",
    "We train this simple model with batch size equal to the whole dataset."
   ]
  },
  {
   "cell_type": "code",
   "execution_count": 15,
   "metadata": {},
   "outputs": [
    {
     "name": "stdout",
     "output_type": "stream",
     "text": [
      "epoch:    0, loss: 3.12e+04\n",
      "epoch:  500, loss: 0.0887\n",
      "epoch: 1000, loss: 0.0654\n",
      "epoch: 1500, loss: 0.0625\n",
      "epoch: 2000, loss: 0.0616\n",
      "epoch: 2500, loss: 0.0612\n",
      "epoch: 3000, loss: 0.061\n",
      "epoch: 3500, loss: 0.0608\n",
      "epoch: 4000, loss: 0.0606\n",
      "epoch: 4500, loss: 0.0604\n",
      "epoch: 5000, loss: 0.0603\n",
      "epoch: 5500, loss: 0.0601\n",
      "epoch: 6000, loss: 0.06\n",
      "epoch: 6500, loss: 0.0598\n",
      "epoch: 7000, loss: 0.0596\n",
      "epoch: 7500, loss: 0.0594\n",
      "epoch: 8000, loss: 0.0591\n",
      "epoch: 8500, loss: 0.0588\n",
      "epoch: 9000, loss: 0.0585\n",
      "epoch: 9500, loss: 0.0582\n"
     ]
    }
   ],
   "source": [
    "n_epochs = 10000\n",
    "for i in range(n_epochs):\n",
    "    \n",
    "    # Calculate predicted y from x\n",
    "    y_pred = model(x)\n",
    "    \n",
    "    # Calculate loss\n",
    "    loss = custom_loss(y_pred, y)\n",
    "    \n",
    "    if i%500 == 0: print(f'epoch: {i:4}, loss: {loss.data:.3}',)\n",
    "\n",
    "    # Backprop, first zeroing gradients\n",
    "    optimizer.zero_grad()\n",
    "    loss.backward()\n",
    "\n",
    "    # Update parameters\n",
    "    optimizer.step()"
   ]
  },
  {
   "cell_type": "markdown",
   "metadata": {},
   "source": [
    "### Get predictions for validation set "
   ]
  },
  {
   "cell_type": "code",
   "execution_count": 16,
   "metadata": {},
   "outputs": [],
   "source": [
    "# Get predicted y and sigma for validation set\n",
    "x_val=np.arange(0.0,1200.0,10)\n",
    "x_val=x_val.reshape(int(1200/10), 1)\n",
    "x_val_pytorch = Variable(torch.from_numpy(x_val).type(dtype)) \n",
    "pred = model(x_val_pytorch)\n",
    "y_pred = pred[:,0].cpu().data\n",
    "sigma_pred = pred[:,1].cpu().data"
   ]
  },
  {
   "cell_type": "markdown",
   "metadata": {},
   "source": [
    "### Plot results"
   ]
  },
  {
   "cell_type": "code",
   "execution_count": 17,
   "metadata": {
    "scrolled": false
   },
   "outputs": [
    {
     "data": {
      "image/png": "[encoded data removed]",
      "text/plain": [
       "<Figure size 1008x432 with 1 Axes>"
      ]
     },
     "metadata": {
      "needs_background": "light"
     },
     "output_type": "display_data"
    },
    {
     "data": {
      "image/png": "[encoded data removed]",
      "text/plain": [
       "<Figure size 1008x432 with 1 Axes>"
      ]
     },
     "metadata": {
      "needs_background": "light"
     },
     "output_type": "display_data"
    }
   ],
   "source": [
    "# Plot predictions and their errors\n",
    "plt.figure(figsize=(14,6))\n",
    "plt.errorbar(x_val, y_pred, yerr=sigma_pred, fmt='.');\n",
    "#plt.errorbar(x_val, y_pred, fmt='.');\n",
    "# One standard-deviation envelope\n",
    "xs = np.linspace(0.0, 1.0, 50)\n",
    "err = 0.4*np.sin(xs*4*np.pi)\n",
    "plt.fill_between(xs, 2*xs+1-err, 2*xs+1+err, facecolor='orange', alpha=0.5, edgecolor='none');\n",
    "plt.xlabel(r'$x$');\n",
    "plt.ylabel(r'$y$');\n",
    "plt.xlim(0,1200);\n",
    "plt.title('Validation set predictions');\n",
    "plt.legend([r'Original data $\\pm \\sigma$ envelope','Validation set predictions'], loc='upper left', );\n",
    "\n",
    "\n",
    "# Plot predictions and their errors\n",
    "plt.figure(figsize=(14,6))\n",
    "plt.errorbar(x_val, y_pred, yerr=sigma_pred, fmt='.');\n",
    "#plt.errorbar(x_val, y_pred, fmt='.');\n",
    "# One standard-deviation envelope\n",
    "xs = np.linspace(0.0, 1.0, 50)\n",
    "err = 0.4*np.sin(xs*4*np.pi)\n",
    "plt.fill_between(xs, 2*xs+1-err, 2*xs+1+err, facecolor='orange', alpha=0.5, edgecolor='none');\n",
    "plt.xlabel(r'$x$');\n",
    "plt.ylabel(r'$y$');\n",
    "plt.xlim(790,910);\n",
    "plt.ylim(1600,1602);\n",
    "plt.title('Validation set predictions');\n",
    "plt.legend([r'Original data $\\pm \\sigma$ envelope','Validation set predictions'], loc='upper left', );"
   ]
  },
  {
   "cell_type": "markdown",
   "metadata": {},
   "source": [
    "The variance doesn't increase between known data, so the hypothesis failed."
   ]
  }
 ],
 "metadata": {
  "kernelspec": {
   "display_name": "Python 3",
   "language": "python",
   "name": "python3"
  },
  "language_info": {
   "codemirror_mode": {
    "name": "ipython",
    "version": 3
   },
   "file_extension": ".py",
   "mimetype": "text/x-python",
   "name": "python",
   "nbconvert_exporter": "python",
   "pygments_lexer": "ipython3",
   "version": "3.6.8"
  }
 },
 "nbformat": 4,
 "nbformat_minor": 2
}
