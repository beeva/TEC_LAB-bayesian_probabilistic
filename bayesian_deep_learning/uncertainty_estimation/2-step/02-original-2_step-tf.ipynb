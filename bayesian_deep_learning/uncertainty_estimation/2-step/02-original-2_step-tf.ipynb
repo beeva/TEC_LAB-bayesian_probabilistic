{
 "cells": [
  {
   "cell_type": "markdown",
   "metadata": {},
   "source": [
    "# Estimating error prediction (2-step)\n",
    "\n",
    "\n",
    "In this experiment we will try to estimate the errors in the predictions of a neural network based on a synthetic dataset.\n",
    "\n",
    "This experiment is the continuation of the \n",
    "\n",
    "\n",
    "## List of experiments\n",
    "1. [2-step]()"
   ]
  }
 ],
 "metadata": {
  "kernelspec": {
   "display_name": "Python 3",
   "language": "python",
   "name": "python3"
  },
  "language_info": {
   "codemirror_mode": {
    "name": "ipython",
    "version": 3
   },
   "file_extension": ".py",
   "mimetype": "text/x-python",
   "name": "python",
   "nbconvert_exporter": "python",
   "pygments_lexer": "ipython3",
   "version": "3.5.2"
  }
 },
 "nbformat": 4,
 "nbformat_minor": 4
}
